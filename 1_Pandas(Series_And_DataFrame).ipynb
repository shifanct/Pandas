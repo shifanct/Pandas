{
  "cells": [
    {
      "cell_type": "code",
      "execution_count": null,
      "metadata": {
        "id": "YM53mjgfFLgh"
      },
      "outputs": [],
      "source": [
        "import pandas as pd"
      ]
    },
    {
      "cell_type": "markdown",
      "source": [
        "* pandas is a python librery used for working with datasets.\n",
        "* it was created by Wes mckinney in 2008\n",
        "* it has functions for analysing,cleaning,exploring and manipulating data\n",
        "* the name pandas has a refference of both \"panel data\" and \"python data analysis"
      ],
      "metadata": {
        "id": "cfz57EIE6VwU"
      }
    },
    {
      "cell_type": "markdown",
      "metadata": {
        "id": "zwQWe8olOR2t"
      },
      "source": [
        "# Pandass  Series"
      ]
    },
    {
      "cell_type": "markdown",
      "source": [
        "* Series is like a column in a table\n",
        "* its a 1D array holding data of any type"
      ],
      "metadata": {
        "id": "fNRB4rxZ64zg"
      }
    },
    {
      "cell_type": "code",
      "execution_count": null,
      "metadata": {
        "id": "7fEa49a-Fk-8"
      },
      "outputs": [],
      "source": [
        "a=[10,20,30,40]"
      ]
    },
    {
      "cell_type": "code",
      "execution_count": null,
      "metadata": {
        "colab": {
          "base_uri": "https://localhost:8080/"
        },
        "id": "ePSEScmGFndE",
        "outputId": "339c2948-63a9-4305-8200-4ea880440e85"
      },
      "outputs": [
        {
          "output_type": "stream",
          "name": "stdout",
          "text": [
            "0    10\n",
            "1    20\n",
            "2    30\n",
            "3    40\n",
            "dtype: int64\n"
          ]
        }
      ],
      "source": [
        "ab=pd.Series(a)\n",
        "print(ab)"
      ]
    },
    {
      "cell_type": "code",
      "execution_count": null,
      "metadata": {
        "id": "ZngHq2nWFrek"
      },
      "outputs": [],
      "source": [
        "name=[\"shifan\",\"mhd\",\"ct\"]"
      ]
    },
    {
      "cell_type": "code",
      "execution_count": null,
      "metadata": {
        "colab": {
          "base_uri": "https://localhost:8080/"
        },
        "id": "rmdY78lOGZYG",
        "outputId": "af6cf6b8-9dcf-48be-fa29-6dc4fb9cab53"
      },
      "outputs": [
        {
          "output_type": "stream",
          "name": "stdout",
          "text": [
            "0    shifan\n",
            "1       mhd\n",
            "2        ct\n",
            "dtype: object\n"
          ]
        }
      ],
      "source": [
        "s=pd.Series(name)\n",
        "print(s)"
      ]
    },
    {
      "cell_type": "code",
      "execution_count": null,
      "metadata": {
        "colab": {
          "base_uri": "https://localhost:8080/"
        },
        "id": "2mmSkSMzGewl",
        "outputId": "467ccf1c-00bb-42a0-f358-c420ccf7da6f"
      },
      "outputs": [
        {
          "output_type": "stream",
          "name": "stdout",
          "text": [
            "0       malpm\n",
            "1    palakkad\n",
            "2    kozhikod\n",
            "3      kannur\n",
            "dtype: object\n"
          ]
        }
      ],
      "source": [
        "#create a series of places\n",
        "place=(\"malpm\",\"palakkad\",\"kozhikod\",\"kannur\")\n",
        "series=pd.Series(place)\n",
        "print(series)"
      ]
    },
    {
      "cell_type": "code",
      "execution_count": null,
      "metadata": {
        "colab": {
          "base_uri": "https://localhost:8080/"
        },
        "id": "Gv1FW3P9H2Oq",
        "outputId": "66cc489e-4d82-4a7b-b94c-c55b396e62d3"
      },
      "outputs": [
        {
          "output_type": "stream",
          "name": "stdout",
          "text": [
            "malpm\n",
            "kozhikod\n",
            "palakkadkannur\n"
          ]
        }
      ],
      "source": [
        "print(series[0])\n",
        "print(series[2])\n",
        "print(series[1] + series[3])"
      ]
    },
    {
      "cell_type": "code",
      "execution_count": null,
      "metadata": {
        "id": "8et25wDhLd0p"
      },
      "outputs": [],
      "source": [
        "a=[1,2,3,4]"
      ]
    },
    {
      "cell_type": "code",
      "execution_count": null,
      "metadata": {
        "colab": {
          "base_uri": "https://localhost:8080/"
        },
        "id": "QTuUvYs5LNJh",
        "outputId": "fb032fb5-da6f-4671-8baf-4dc3105670f8"
      },
      "outputs": [
        {
          "output_type": "stream",
          "name": "stdout",
          "text": [
            "0    1\n",
            "1    2\n",
            "2    3\n",
            "3    4\n",
            "dtype: int64\n"
          ]
        }
      ],
      "source": [
        "x=pd.Series(a)\n",
        "print(x)"
      ]
    },
    {
      "cell_type": "code",
      "execution_count": null,
      "metadata": {
        "colab": {
          "base_uri": "https://localhost:8080/"
        },
        "id": "3EidjEZKLdoR",
        "outputId": "1ede5744-abe5-4937-970f-45ffe3ceea4f"
      },
      "outputs": [
        {
          "output_type": "stream",
          "name": "stdout",
          "text": [
            "w       malpm\n",
            "x    palakkad\n",
            "y    kozhikod\n",
            "z      kannur\n",
            "dtype: object\n",
            "palakkad\n",
            "kannur\n"
          ]
        }
      ],
      "source": [
        "ind=pd.Series(place,index=[\"w\",\"x\",\"y\",\"z\"])\n",
        "print(ind)\n",
        "print(ind[\"x\"])\n",
        "print(ind[\"z\"])"
      ]
    },
    {
      "cell_type": "code",
      "execution_count": null,
      "metadata": {
        "colab": {
          "base_uri": "https://localhost:8080/"
        },
        "id": "ekXQ916ALp38",
        "outputId": "197a2dba-7213-41ef-a007-b45e8b3a99bc"
      },
      "outputs": [
        {
          "output_type": "stream",
          "name": "stdout",
          "text": [
            "5    a\n",
            "6    b\n",
            "7    c\n",
            "dtype: object\n"
          ]
        }
      ],
      "source": [
        "x=[\"a\",\"b\",\"c\"]\n",
        "y=pd.Series(x,index=[5,6,7])\n",
        "print(y)"
      ]
    },
    {
      "cell_type": "code",
      "execution_count": null,
      "metadata": {
        "colab": {
          "base_uri": "https://localhost:8080/"
        },
        "id": "r1UrquUnQYqg",
        "outputId": "8743743a-65d7-45c5-a22c-55db94b18db2"
      },
      "outputs": [
        {
          "output_type": "stream",
          "name": "stdout",
          "text": [
            "0     apple\n",
            "1    orange\n",
            "2    banana\n",
            "dtype: object\n"
          ]
        }
      ],
      "source": [
        "A=pd.Series([\"apple\",\"orange\",\"banana\"])\n",
        "print(A)"
      ]
    },
    {
      "cell_type": "code",
      "execution_count": null,
      "metadata": {
        "colab": {
          "base_uri": "https://localhost:8080/"
        },
        "id": "7sDfwuDCRF5A",
        "outputId": "48286fc7-9b41-467e-8aa2-f8b76fc83d5c"
      },
      "outputs": [
        {
          "output_type": "stream",
          "name": "stdout",
          "text": [
            "10      kiwi\n",
            "20    banana\n",
            "30    grabes\n",
            "dtype: object\n"
          ]
        }
      ],
      "source": [
        "B=pd.Series([\"kiwi\",\"banana\",\"grabes\"],index=[10,20,30])\n",
        "print(B)"
      ]
    },
    {
      "cell_type": "markdown",
      "metadata": {
        "id": "Bp6Tvfz1TQ3G"
      },
      "source": [
        "## key value object as series"
      ]
    },
    {
      "cell_type": "code",
      "execution_count": null,
      "metadata": {
        "colab": {
          "base_uri": "https://localhost:8080/"
        },
        "id": "273Q2NR8RYxM",
        "outputId": "e2a1ba6d-9f54-43b2-9d8c-dca323d70bff"
      },
      "outputs": [
        {
          "output_type": "stream",
          "name": "stdout",
          "text": [
            "a    1\n",
            "b    2\n",
            "c    3\n",
            "dtype: int64\n"
          ]
        }
      ],
      "source": [
        "dic={\"a\":1,\"b\":2,\"c\":3}\n",
        "s=pd.Series(dic)\n",
        "print(s)"
      ]
    },
    {
      "cell_type": "code",
      "execution_count": null,
      "metadata": {
        "colab": {
          "base_uri": "https://localhost:8080/"
        },
        "id": "e9JNN-tzU4on",
        "outputId": "52d228cd-0f74-46ce-a9b3-5219029b3f73"
      },
      "outputs": [
        {
          "output_type": "stream",
          "name": "stdout",
          "text": [
            "sunny       35\n",
            "rainy       28\n",
            "overcast    25\n",
            "dtype: int64\n"
          ]
        }
      ],
      "source": [
        "weather={\"sunny\":35,\"rainy\":28,\"overcast\":25}\n",
        "wt1=pd.Series(weather)\n",
        "print(wt1)"
      ]
    },
    {
      "cell_type": "code",
      "execution_count": null,
      "metadata": {
        "colab": {
          "base_uri": "https://localhost:8080/"
        },
        "id": "L9oJiG4Rl4d7",
        "outputId": "45d46fa0-7e75-40ca-c723-b0a79139902c"
      },
      "outputs": [
        {
          "output_type": "stream",
          "name": "stdout",
          "text": [
            "sunny     35.0\n",
            "rainy     28.0\n",
            "cloudy     NaN\n",
            "dtype: float64\n"
          ]
        }
      ],
      "source": [
        "weather={\"sunny\":35,\"rainy\":28,\"overcast\":25}\n",
        "wt2=pd.Series(weather,index=[\"sunny\",\"rainy\",\"cloudy\"])\n",
        "print(wt2)"
      ]
    },
    {
      "cell_type": "code",
      "execution_count": null,
      "metadata": {
        "colab": {
          "base_uri": "https://localhost:8080/"
        },
        "id": "ZloqXlUIVYkW",
        "outputId": "f5a2cd7c-f3cd-4f63-9c91-f314ab6fd91f"
      },
      "outputs": [
        {
          "output_type": "stream",
          "name": "stdout",
          "text": [
            "insaf     25\n",
            "shifan    18\n",
            "dtype: int64\n"
          ]
        }
      ],
      "source": [
        "name={\"insaf\":25,\"shifan\":18,\"david\":20}\n",
        "x=pd.Series(name,index=[\"insaf\",\"shifan\"])\n",
        "print(x)"
      ]
    },
    {
      "cell_type": "code",
      "execution_count": null,
      "metadata": {
        "colab": {
          "base_uri": "https://localhost:8080/"
        },
        "id": "rAqAY4nbWlKI",
        "outputId": "68c7b360-24a8-485c-80b5-a7dd2dcdfa0d"
      },
      "outputs": [
        {
          "output_type": "stream",
          "name": "stdout",
          "text": [
            "a     apple\n",
            "b    orange\n",
            "c    banana\n",
            "dtype: object\n"
          ]
        }
      ],
      "source": [
        "z=pd.Series([\"apple\",\"orange\",\"banana\"],index=[\"a\",\"b\",\"c\"])\n",
        "print(z)"
      ]
    },
    {
      "cell_type": "markdown",
      "metadata": {
        "id": "qHCjYZ98jF3s"
      },
      "source": [
        "# DataFrame"
      ]
    },
    {
      "cell_type": "code",
      "execution_count": null,
      "metadata": {
        "id": "_wFabRr9XFet"
      },
      "outputs": [],
      "source": [
        "students={\n",
        "    'name':[\"amal\",\"arun\",\"dooraj\"],\n",
        "    'age':[21,18,32],\n",
        "    'place':[\"thrissur\",\"pala\",\"delhi\"]\n",
        "}"
      ]
    },
    {
      "cell_type": "code",
      "execution_count": null,
      "metadata": {
        "colab": {
          "base_uri": "https://localhost:8080/"
        },
        "id": "Y1NXmc4Hhd4C",
        "outputId": "397438e6-e893-4982-8639-9da941993eda"
      },
      "outputs": [
        {
          "output_type": "stream",
          "name": "stdout",
          "text": [
            "     name  age     place\n",
            "0    amal   21  thrissur\n",
            "1    arun   18      pala\n",
            "2  dooraj   32     delhi\n"
          ]
        }
      ],
      "source": [
        "df=pd.DataFrame(students)\n",
        "print(df)"
      ]
    },
    {
      "cell_type": "code",
      "execution_count": null,
      "metadata": {
        "colab": {
          "base_uri": "https://localhost:8080/"
        },
        "id": "R1DGHuB_jzlx",
        "outputId": "1a3be27c-889d-46c7-b620-830393167eb1"
      },
      "outputs": [
        {
          "output_type": "stream",
          "name": "stdout",
          "text": [
            "    names  age place        gende qualification\n",
            "0    arun   15   mlp         male            +2\n",
            "1    abin   17   pkd         male            +2\n",
            "2  shamil   19   mkd       female            +2\n",
            "3    yscn   19   edk  not_defined            +2\n"
          ]
        }
      ],
      "source": [
        "student_details={\n",
        "    \"names\":[\"arun\",\"abin\",\"shamil\",\"yscn\",],\n",
        "    \"age\":[15,17,19,19],\n",
        "    \"place\":[\"mlp\",\"pkd\",\"mkd\",\"edk\"],\n",
        "    \"gende\":[\"male\",\"male\",\"female\",\"not_defined\"],\n",
        "    \"qualification\":[\"+2\",\"+2\",\"+2\",\"+2\"]\n",
        "}\n",
        "\n",
        "df1=pd.DataFrame(student_details)\n",
        "print(df1)"
      ]
    },
    {
      "cell_type": "code",
      "execution_count": null,
      "metadata": {
        "colab": {
          "base_uri": "https://localhost:8080/"
        },
        "id": "w-VS2QTxlMZJ",
        "outputId": "e8202b30-7618-4680-c731-8c71c36bb256"
      },
      "outputs": [
        {
          "output_type": "execute_result",
          "data": {
            "text/plain": [
              "(4, 4)"
            ]
          },
          "metadata": {},
          "execution_count": 25
        }
      ],
      "source": [
        "employee={\n",
        "    \"id\":[\"1\",\"2\",\"3\",\"4\"],\n",
        "    \"name\":(\"vishnu\",\"akhil\",\"amrutha\",\"athulya\"),\n",
        "    \"job role\":(\"manager\",\"CEO\",\"Accountant\",\"HR\"),\n",
        "    \"salary\":(20000,25000,15000,45000)\n",
        "}\n",
        "df2=pd.DataFrame(employee)\n",
        "df2.shape"
      ]
    },
    {
      "cell_type": "code",
      "execution_count": null,
      "metadata": {
        "colab": {
          "base_uri": "https://localhost:8080/"
        },
        "id": "YLVSI941ncGw",
        "outputId": "fac1515e-c3a7-4c71-b109-6cad7d480c8f"
      },
      "outputs": [
        {
          "output_type": "stream",
          "name": "stdout",
          "text": [
            "  id     name    job role  salary\n",
            "0  1   vishnu     manager   20000\n",
            "1  2    akhil         CEO   25000\n",
            "2  3  amrutha  Accountant   15000\n",
            "3  4  athulya          HR   45000\n"
          ]
        }
      ],
      "source": [
        "print(df2)"
      ]
    },
    {
      "cell_type": "code",
      "execution_count": null,
      "metadata": {
        "colab": {
          "base_uri": "https://localhost:8080/",
          "height": 210
        },
        "id": "gWEMopUTowGD",
        "outputId": "d410da10-7966-4d8e-c861-30d8ebfaa2ec"
      },
      "outputs": [
        {
          "output_type": "execute_result",
          "data": {
            "text/plain": [
              "id          object\n",
              "name        object\n",
              "job role    object\n",
              "salary       int64\n",
              "dtype: object"
            ],
            "text/html": [
              "<div>\n",
              "<style scoped>\n",
              "    .dataframe tbody tr th:only-of-type {\n",
              "        vertical-align: middle;\n",
              "    }\n",
              "\n",
              "    .dataframe tbody tr th {\n",
              "        vertical-align: top;\n",
              "    }\n",
              "\n",
              "    .dataframe thead th {\n",
              "        text-align: right;\n",
              "    }\n",
              "</style>\n",
              "<table border=\"1\" class=\"dataframe\">\n",
              "  <thead>\n",
              "    <tr style=\"text-align: right;\">\n",
              "      <th></th>\n",
              "      <th>0</th>\n",
              "    </tr>\n",
              "  </thead>\n",
              "  <tbody>\n",
              "    <tr>\n",
              "      <th>id</th>\n",
              "      <td>object</td>\n",
              "    </tr>\n",
              "    <tr>\n",
              "      <th>name</th>\n",
              "      <td>object</td>\n",
              "    </tr>\n",
              "    <tr>\n",
              "      <th>job role</th>\n",
              "      <td>object</td>\n",
              "    </tr>\n",
              "    <tr>\n",
              "      <th>salary</th>\n",
              "      <td>int64</td>\n",
              "    </tr>\n",
              "  </tbody>\n",
              "</table>\n",
              "</div><br><label><b>dtype:</b> object</label>"
            ]
          },
          "metadata": {},
          "execution_count": 27
        }
      ],
      "source": [
        "df2.dtypes"
      ]
    },
    {
      "cell_type": "markdown",
      "metadata": {
        "id": "j2XdPR5lpOvI"
      },
      "source": [
        " <!-- create a dataframe of details of peoples lived in a residential areaas has following  features house number,house holder name,house name, phone number -->"
      ]
    },
    {
      "cell_type": "code",
      "execution_count": null,
      "metadata": {
        "id": "BgYx2WPhoxqw"
      },
      "outputs": [],
      "source": [
        "house_details={\n",
        "    \"house_number\":[456,238,625,406,351],\n",
        "    \"house_holder_name\":[\"vaapputty\",\"kunjappu\",\"jamal\",\"hamsappa\",\"sainu\"],\n",
        "    \"house_name\":[\"akkara\",\"padinaran\",\"parappuram\",\"thorakkattil\",\"odukkal\"],\n",
        "    \"phone_number\":[8560134567,8467293815,835492544,8352984538,9365865285]\n",
        "}\n",
        "df3=pd.DataFrame(house_details)"
      ]
    },
    {
      "cell_type": "code",
      "source": [
        "print(df3.shape)"
      ],
      "metadata": {
        "colab": {
          "base_uri": "https://localhost:8080/"
        },
        "id": "9C-Gzlf00Ib1",
        "outputId": "4bc8148f-8db7-459d-b708-1611b536d88a"
      },
      "execution_count": null,
      "outputs": [
        {
          "output_type": "stream",
          "name": "stdout",
          "text": [
            "(5, 4)\n"
          ]
        }
      ]
    },
    {
      "cell_type": "code",
      "source": [
        "print(df3.dtypes)"
      ],
      "metadata": {
        "colab": {
          "base_uri": "https://localhost:8080/"
        },
        "id": "81RFV5k40Msb",
        "outputId": "a5924d99-8352-4f6f-f7e4-84557d07cb1a"
      },
      "execution_count": null,
      "outputs": [
        {
          "output_type": "stream",
          "name": "stdout",
          "text": [
            "house_number          int64\n",
            "house_holder_name    object\n",
            "house_name           object\n",
            "phone_number          int64\n",
            "dtype: object\n"
          ]
        }
      ]
    },
    {
      "cell_type": "markdown",
      "source": [
        "## DataFrame locating"
      ],
      "metadata": {
        "id": "zJ0Aq68-pjt1"
      }
    },
    {
      "cell_type": "code",
      "source": [
        "print(df3)"
      ],
      "metadata": {
        "colab": {
          "base_uri": "https://localhost:8080/"
        },
        "id": "AxiwoHypxqOm",
        "outputId": "68909a71-9d9a-453b-ca92-638adfa8f0ea"
      },
      "execution_count": null,
      "outputs": [
        {
          "output_type": "stream",
          "name": "stdout",
          "text": [
            "   house_number house_holder_name    house_name  phone_number\n",
            "0           456         vaapputty        akkara    8560134567\n",
            "1           238          kunjappu     padinaran    8467293815\n",
            "2           625             jamal    parappuram     835492544\n",
            "3           406          hamsappa  thorakkattil    8352984538\n",
            "4           351             sainu       odukkal    9365865285\n"
          ]
        }
      ]
    },
    {
      "cell_type": "code",
      "execution_count": null,
      "metadata": {
        "colab": {
          "base_uri": "https://localhost:8080/"
        },
        "id": "gaEYs5fos9I0",
        "outputId": "43753b32-4d3e-4f1f-f98d-7d9a7a9b120e"
      },
      "outputs": [
        {
          "output_type": "stream",
          "name": "stdout",
          "text": [
            "house_number                456\n",
            "house_holder_name     vaapputty\n",
            "house_name               akkara\n",
            "phone_number         8560134567\n",
            "Name: 0, dtype: object\n"
          ]
        }
      ],
      "source": [
        "print(df3.loc[0])"
      ]
    },
    {
      "cell_type": "code",
      "execution_count": null,
      "metadata": {
        "colab": {
          "base_uri": "https://localhost:8080/"
        },
        "id": "J9AjlTnDuUfH",
        "outputId": "f89e4641-c86c-41ae-bff4-913b5bc06df7"
      },
      "outputs": [
        {
          "output_type": "stream",
          "name": "stdout",
          "text": [
            "house_number                625\n",
            "house_holder_name         jamal\n",
            "house_name           parappuram\n",
            "phone_number          835492544\n",
            "Name: 2, dtype: object\n"
          ]
        }
      ],
      "source": [
        "print(df3.loc[2])"
      ]
    },
    {
      "cell_type": "code",
      "source": [
        "print(df3.loc[4])"
      ],
      "metadata": {
        "colab": {
          "base_uri": "https://localhost:8080/"
        },
        "id": "vfhYUHccprOr",
        "outputId": "6a4a9bc5-b275-45a4-81be-c4651297e59b"
      },
      "execution_count": null,
      "outputs": [
        {
          "output_type": "stream",
          "name": "stdout",
          "text": [
            "house_number                351\n",
            "house_holder_name         sainu\n",
            "house_name              odukkal\n",
            "phone_number         9365865285\n",
            "Name: 4, dtype: object\n"
          ]
        }
      ]
    },
    {
      "cell_type": "markdown",
      "source": [
        "## multiple raw locating"
      ],
      "metadata": {
        "id": "2ZcOuhFQpz6-"
      }
    },
    {
      "cell_type": "code",
      "execution_count": null,
      "metadata": {
        "colab": {
          "base_uri": "https://localhost:8080/"
        },
        "id": "bnD5uz8MmrSK",
        "outputId": "c1887166-efe2-407c-963e-638e02002d24"
      },
      "outputs": [
        {
          "output_type": "stream",
          "name": "stdout",
          "text": [
            "   house_number house_holder_name  house_name  phone_number\n",
            "0           456         vaapputty      akkara    8560134567\n",
            "2           625             jamal  parappuram     835492544\n"
          ]
        }
      ],
      "source": [
        "print(df3.loc[[0,2]])"
      ]
    },
    {
      "cell_type": "code",
      "source": [
        "print(df3.loc[[1,4]])"
      ],
      "metadata": {
        "colab": {
          "base_uri": "https://localhost:8080/"
        },
        "id": "5RuVZsCLp6QE",
        "outputId": "b4a99a65-9351-4abf-a403-50dbc9cd9799"
      },
      "execution_count": null,
      "outputs": [
        {
          "output_type": "stream",
          "name": "stdout",
          "text": [
            "   house_number house_holder_name house_name  phone_number\n",
            "1           238          kunjappu  padinaran    8467293815\n",
            "4           351             sainu    odukkal    9365865285\n"
          ]
        }
      ]
    },
    {
      "cell_type": "markdown",
      "source": [
        "## DataFrame Slicing"
      ],
      "metadata": {
        "id": "puc1IrkHp_7t"
      }
    },
    {
      "cell_type": "code",
      "execution_count": null,
      "metadata": {
        "colab": {
          "base_uri": "https://localhost:8080/"
        },
        "id": "gxEATpVru8qk",
        "outputId": "e54b0fef-78fd-45b7-f544-4994a5aaec52"
      },
      "outputs": [
        {
          "output_type": "stream",
          "name": "stdout",
          "text": [
            "   house_number house_holder_name    house_name  phone_number\n",
            "2           625             jamal    parappuram     835492544\n",
            "3           406          hamsappa  thorakkattil    8352984538\n",
            "4           351             sainu       odukkal    9365865285\n"
          ]
        }
      ],
      "source": [
        "print(df3.loc[2:4])"
      ]
    },
    {
      "cell_type": "code",
      "execution_count": null,
      "metadata": {
        "colab": {
          "base_uri": "https://localhost:8080/"
        },
        "id": "qbfegBBtu8mk",
        "outputId": "ecfc78d9-8c4f-4df8-ebc7-d534fa3d37e5"
      },
      "outputs": [
        {
          "output_type": "stream",
          "name": "stdout",
          "text": [
            "   house_number house_holder_name    house_name  phone_number\n",
            "2           625             jamal    parappuram     835492544\n",
            "3           406          hamsappa  thorakkattil    8352984538\n"
          ]
        }
      ],
      "source": [
        "print(df3.loc[2:3])"
      ]
    },
    {
      "cell_type": "markdown",
      "source": [
        "## Locating elements"
      ],
      "metadata": {
        "id": "pkJT_SqOy821"
      }
    },
    {
      "cell_type": "code",
      "source": [
        "print(df3.loc[3,\"house_holder_name\"])"
      ],
      "metadata": {
        "colab": {
          "base_uri": "https://localhost:8080/"
        },
        "id": "LK6B6YxlybSU",
        "outputId": "9f2b5baa-afa5-45a3-e4b5-deaa52394582"
      },
      "execution_count": null,
      "outputs": [
        {
          "output_type": "stream",
          "name": "stdout",
          "text": [
            "hamsappa\n"
          ]
        }
      ]
    },
    {
      "cell_type": "code",
      "source": [
        "print(df3.loc[2,\"phone_number\"])"
      ],
      "metadata": {
        "colab": {
          "base_uri": "https://localhost:8080/"
        },
        "id": "E4Kt6eomxXGl",
        "outputId": "95fdb95c-b4be-4db8-eb7f-28d5abc5b6e0"
      },
      "execution_count": null,
      "outputs": [
        {
          "output_type": "stream",
          "name": "stdout",
          "text": [
            "835492544\n"
          ]
        }
      ]
    },
    {
      "cell_type": "code",
      "source": [
        "print(df3.loc[4,\"house_number\"])"
      ],
      "metadata": {
        "colab": {
          "base_uri": "https://localhost:8080/"
        },
        "id": "IsYa43hzzSZJ",
        "outputId": "330e123d-d147-458a-a096-6acbbc38a80d"
      },
      "execution_count": null,
      "outputs": [
        {
          "output_type": "stream",
          "name": "stdout",
          "text": [
            "351\n"
          ]
        }
      ]
    },
    {
      "cell_type": "markdown",
      "source": [
        "## Change Index in a DataFrame"
      ],
      "metadata": {
        "id": "tOBVaOrv0lj8"
      }
    },
    {
      "cell_type": "code",
      "execution_count": null,
      "metadata": {
        "id": "IgmgIX3dsYJq"
      },
      "outputs": [],
      "source": [
        "Data={\n",
        "    \"calories\":[450,380,510],\n",
        "    \"duration\":[30,45,50]\n",
        "}"
      ]
    },
    {
      "cell_type": "code",
      "execution_count": null,
      "metadata": {
        "id": "Alp1QoOasmHH",
        "colab": {
          "base_uri": "https://localhost:8080/"
        },
        "outputId": "f8e1c5bf-69ea-4f4c-d29e-81cf2ef6c338"
      },
      "outputs": [
        {
          "output_type": "stream",
          "name": "stdout",
          "text": [
            "   calories  duration\n",
            "a       450        30\n",
            "b       380        45\n",
            "c       510        50\n"
          ]
        }
      ],
      "source": [
        "df=pd.DataFrame(Data,index=[\"a\",\"b\",\"c\"])\n",
        "print(df)"
      ]
    },
    {
      "cell_type": "code",
      "source": [
        "Data1={\n",
        "    \"veg\":[\"carrot\",\"cabbage\",\"tomatto\"],\n",
        "    \"non_veg\":[\"beef\",\"chicken\",\"pork\"]\n",
        "}"
      ],
      "metadata": {
        "id": "q43ElqA81UPN"
      },
      "execution_count": null,
      "outputs": []
    },
    {
      "cell_type": "code",
      "execution_count": null,
      "metadata": {
        "id": "xCZMv1ehs3Bv"
      },
      "outputs": [],
      "source": [
        "df1=pd.DataFrame(Data1,index=[\"a\",\"b\",\"c\"])"
      ]
    },
    {
      "cell_type": "code",
      "source": [
        "print(df1)"
      ],
      "metadata": {
        "colab": {
          "base_uri": "https://localhost:8080/"
        },
        "id": "vddrTx9q14Mr",
        "outputId": "bbbaf50c-a6b3-4046-9b49-f0b5f26b829e"
      },
      "execution_count": null,
      "outputs": [
        {
          "output_type": "stream",
          "name": "stdout",
          "text": [
            "       veg  non_veg\n",
            "a   carrot     beef\n",
            "b  cabbage  chicken\n",
            "c  tomatto     pork\n"
          ]
        }
      ]
    },
    {
      "cell_type": "code",
      "source": [
        "print(df1.loc[\"a\"])"
      ],
      "metadata": {
        "colab": {
          "base_uri": "https://localhost:8080/"
        },
        "id": "dNx95FKs15JO",
        "outputId": "601c1e0d-664a-459a-ebb8-9315e1500837"
      },
      "execution_count": null,
      "outputs": [
        {
          "output_type": "stream",
          "name": "stdout",
          "text": [
            "veg        carrot\n",
            "non_veg      beef\n",
            "Name: a, dtype: object\n"
          ]
        }
      ]
    },
    {
      "cell_type": "code",
      "source": [
        "print(df1.loc[[\"b\",\"c\"]])"
      ],
      "metadata": {
        "colab": {
          "base_uri": "https://localhost:8080/"
        },
        "id": "u_xaoZdY2hCE",
        "outputId": "3de98c7e-3c9a-4557-fd4e-f7269fb99300"
      },
      "execution_count": null,
      "outputs": [
        {
          "output_type": "stream",
          "name": "stdout",
          "text": [
            "       veg  non_veg\n",
            "b  cabbage  chicken\n",
            "c  tomatto     pork\n"
          ]
        }
      ]
    },
    {
      "cell_type": "code",
      "source": [
        "print(df1.loc[\"c\",\"non_veg\"])"
      ],
      "metadata": {
        "colab": {
          "base_uri": "https://localhost:8080/"
        },
        "id": "eY8S4CvY2oRl",
        "outputId": "73910b70-348e-4b21-bf5d-6b3a37474402"
      },
      "execution_count": null,
      "outputs": [
        {
          "output_type": "stream",
          "name": "stdout",
          "text": [
            "pork\n"
          ]
        }
      ]
    },
    {
      "cell_type": "code",
      "source": [
        "print(df1.loc[\"a\":\"c\"])"
      ],
      "metadata": {
        "colab": {
          "base_uri": "https://localhost:8080/"
        },
        "id": "BdE9ndcY25-h",
        "outputId": "0928fd5a-f231-4cee-d2fe-a436159bba3d"
      },
      "execution_count": null,
      "outputs": [
        {
          "output_type": "stream",
          "name": "stdout",
          "text": [
            "       veg  non_veg\n",
            "a   carrot     beef\n",
            "b  cabbage  chicken\n",
            "c  tomatto     pork\n"
          ]
        }
      ]
    },
    {
      "cell_type": "code",
      "source": [
        "print(df1.loc[\"c\",\"non_veg\"])"
      ],
      "metadata": {
        "colab": {
          "base_uri": "https://localhost:8080/"
        },
        "id": "xsJfsa8V3DvE",
        "outputId": "4f5b3544-7b3d-4829-f305-5a7e0fc8d3e0"
      },
      "execution_count": null,
      "outputs": [
        {
          "output_type": "stream",
          "name": "stdout",
          "text": [
            "pork\n"
          ]
        }
      ]
    }
  ],
  "metadata": {
    "colab": {
      "provenance": []
    },
    "kernelspec": {
      "display_name": "Python 3",
      "name": "python3"
    },
    "language_info": {
      "name": "python"
    }
  },
  "nbformat": 4,
  "nbformat_minor": 0
}