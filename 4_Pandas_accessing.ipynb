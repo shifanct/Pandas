{
  "nbformat": 4,
  "nbformat_minor": 0,
  "metadata": {
    "colab": {
      "provenance": []
    },
    "kernelspec": {
      "name": "python3",
      "display_name": "Python 3"
    },
    "language_info": {
      "name": "python"
    }
  },
  "cells": [
    {
      "cell_type": "code",
      "execution_count": null,
      "metadata": {
        "id": "7v-cyg-vaNqP"
      },
      "outputs": [],
      "source": [
        "import pandas as pd"
      ]
    },
    {
      "cell_type": "code",
      "source": [
        "s=pd.Series(\"shifan\",index=[1,2,3,4,5,6])\n",
        "print(s)"
      ],
      "metadata": {
        "id": "o5m0hRH3bUsQ",
        "colab": {
          "base_uri": "https://localhost:8080/"
        },
        "outputId": "a71728b7-d4e2-4b30-9954-11e4f0f89ff9"
      },
      "execution_count": null,
      "outputs": [
        {
          "output_type": "stream",
          "name": "stdout",
          "text": [
            "1    shifan\n",
            "2    shifan\n",
            "3    shifan\n",
            "4    shifan\n",
            "5    shifan\n",
            "6    shifan\n",
            "dtype: object\n"
          ]
        }
      ]
    },
    {
      "cell_type": "code",
      "source": [
        "df=pd.read_csv(\"/content/petrol - petrol.csv\")"
      ],
      "metadata": {
        "id": "--RC_oT9aRfL"
      },
      "execution_count": null,
      "outputs": []
    },
    {
      "cell_type": "code",
      "source": [
        "df"
      ],
      "metadata": {
        "id": "eePDjoDvaaWx"
      },
      "execution_count": null,
      "outputs": []
    },
    {
      "cell_type": "code",
      "source": [
        "# access column\n",
        "df[\"Kolkata\"]"
      ],
      "metadata": {
        "id": "wI6VuVp9adqw"
      },
      "execution_count": null,
      "outputs": []
    },
    {
      "cell_type": "code",
      "source": [
        "#multiple column accessing\n",
        "df[[\"Chennai\",\"Delhi\"]]"
      ],
      "metadata": {
        "id": "DOPwdIFObBFR"
      },
      "execution_count": null,
      "outputs": []
    },
    {
      "cell_type": "code",
      "source": [
        "# raw accessing\n",
        "print(df.loc[0])"
      ],
      "metadata": {
        "id": "5XREKaabaof5"
      },
      "execution_count": null,
      "outputs": []
    },
    {
      "cell_type": "code",
      "source": [
        "print(df.loc[[3,4]])"
      ],
      "metadata": {
        "id": "2uIIiCPMeZ0h"
      },
      "execution_count": null,
      "outputs": []
    },
    {
      "cell_type": "code",
      "source": [
        "# slicing\n",
        "print(df.loc[:8])"
      ],
      "metadata": {
        "id": "Dh3QgW1Tdfug"
      },
      "execution_count": null,
      "outputs": []
    },
    {
      "cell_type": "code",
      "source": [
        "print(df.loc[5:8])"
      ],
      "metadata": {
        "id": "2dGvsHq1eG_y"
      },
      "execution_count": null,
      "outputs": []
    },
    {
      "cell_type": "code",
      "source": [
        "df.loc[:8,\"Chennai\"]"
      ],
      "metadata": {
        "id": "PhwptwmweWoI"
      },
      "execution_count": null,
      "outputs": []
    },
    {
      "cell_type": "code",
      "source": [
        "print(df.loc[0:9,[\"Chennai\",\"Mumbai\"]])"
      ],
      "metadata": {
        "id": "N09_CfoPfUUY"
      },
      "execution_count": null,
      "outputs": []
    },
    {
      "cell_type": "code",
      "source": [
        "print(df.loc[4,\"Kolkata\"])"
      ],
      "metadata": {
        "id": "MT6Xee_VhIsJ"
      },
      "execution_count": null,
      "outputs": []
    },
    {
      "cell_type": "code",
      "source": [
        "df.loc[0:5,[\"Date\",\"Delhi\"]]"
      ],
      "metadata": {
        "id": "71KwU_nAiL7Q"
      },
      "execution_count": null,
      "outputs": []
    },
    {
      "cell_type": "code",
      "source": [
        "df.loc[[4,6],[\"Chennai\",\"Kolkata\"]]"
      ],
      "metadata": {
        "id": "e_Lvftpsi4Dv"
      },
      "execution_count": null,
      "outputs": []
    },
    {
      "cell_type": "code",
      "source": [
        "df.loc[[4,9],[\"Chennai\",\"Kolkata\"]]"
      ],
      "metadata": {
        "id": "x0lRgsEXjESv"
      },
      "execution_count": null,
      "outputs": []
    },
    {
      "cell_type": "code",
      "source": [
        "print(df[[\"Chennai\",\"Mumbai\"]].to_string())"
      ],
      "metadata": {
        "id": "v2MRwDS8kyzP"
      },
      "execution_count": null,
      "outputs": []
    },
    {
      "cell_type": "code",
      "source": [
        "df.loc[:],[[\"Chennai\",\"Mumbai\"]]"
      ],
      "metadata": {
        "id": "S5OdtsXmloPP"
      },
      "execution_count": null,
      "outputs": []
    },
    {
      "cell_type": "code",
      "source": [
        "df1=pd.read_csv(\"/content/petrol - petrol.csv\")"
      ],
      "metadata": {
        "id": "fKsfN8Ffj4_P"
      },
      "execution_count": null,
      "outputs": []
    },
    {
      "cell_type": "code",
      "source": [
        "df1"
      ],
      "metadata": {
        "id": "keNI0iFUkJuH"
      },
      "execution_count": null,
      "outputs": []
    },
    {
      "cell_type": "code",
      "source": [
        "df.loc[3]"
      ],
      "metadata": {
        "id": "c6jU0K3-kNoe"
      },
      "execution_count": null,
      "outputs": []
    },
    {
      "cell_type": "code",
      "source": [
        "df.loc[[3,6]]"
      ],
      "metadata": {
        "id": "1vXTTS4XkS_W"
      },
      "execution_count": null,
      "outputs": []
    },
    {
      "cell_type": "code",
      "source": [
        "df.loc[4:8]"
      ],
      "metadata": {
        "id": "d21payehkVSO"
      },
      "execution_count": null,
      "outputs": []
    },
    {
      "cell_type": "code",
      "source": [
        "df[\"Delhi\"]"
      ],
      "metadata": {
        "id": "UFfIK0SskXkm"
      },
      "execution_count": null,
      "outputs": []
    },
    {
      "cell_type": "code",
      "source": [
        "df[[\"Delhi\",\"Mumbai\"]]"
      ],
      "metadata": {
        "id": "uwyoI1XIkpL3"
      },
      "execution_count": null,
      "outputs": []
    },
    {
      "cell_type": "code",
      "source": [
        "df.loc[3:7,\"Delhi\"]"
      ],
      "metadata": {
        "id": "My7dCEoXkvt_"
      },
      "execution_count": null,
      "outputs": []
    },
    {
      "cell_type": "code",
      "source": [
        "df.loc[2:7,[\"Delhi\",\"Kolkata\"]]"
      ],
      "metadata": {
        "id": "RF-zqLTMmG8O"
      },
      "execution_count": null,
      "outputs": []
    },
    {
      "cell_type": "code",
      "source": [
        "df.loc[0:8,\"Delhi\":\"Chennai\"]"
      ],
      "metadata": {
        "id": "upwGpnnkmT6O"
      },
      "execution_count": null,
      "outputs": []
    },
    {
      "cell_type": "code",
      "source": [
        "df=pd.read_csv(\"/content/data - data.csv\")"
      ],
      "metadata": {
        "id": "REfgU_EFnweA"
      },
      "execution_count": null,
      "outputs": []
    },
    {
      "cell_type": "code",
      "source": [
        "df"
      ],
      "metadata": {
        "id": "RUrm_uOOoBzl"
      },
      "execution_count": null,
      "outputs": []
    },
    {
      "cell_type": "code",
      "source": [
        "df.loc[10]"
      ],
      "metadata": {
        "id": "tbkJAKRYw5aM"
      },
      "execution_count": null,
      "outputs": []
    },
    {
      "cell_type": "code",
      "source": [
        "x=df.loc[10]>100\n",
        "x"
      ],
      "metadata": {
        "id": "oTLzv7yTw2HE"
      },
      "execution_count": null,
      "outputs": []
    },
    {
      "cell_type": "code",
      "source": [
        "df.loc[: ,x]"
      ],
      "metadata": {
        "id": "FGBPCaWTw950"
      },
      "execution_count": null,
      "outputs": []
    },
    {
      "cell_type": "code",
      "source": [
        "z=df.loc[:,\"Maxpulse\"]>150"
      ],
      "metadata": {
        "id": "lrCPlqL8zCKc"
      },
      "execution_count": null,
      "outputs": []
    },
    {
      "cell_type": "code",
      "source": [
        "z"
      ],
      "metadata": {
        "id": "1wWjv54Ox0EE"
      },
      "execution_count": null,
      "outputs": []
    },
    {
      "cell_type": "code",
      "source": [
        "df.loc[z,:]"
      ],
      "metadata": {
        "id": "MCulr27QzNUL"
      },
      "execution_count": null,
      "outputs": []
    },
    {
      "cell_type": "code",
      "source": [
        "df"
      ],
      "metadata": {
        "id": "Xabefm3w0UH7"
      },
      "execution_count": null,
      "outputs": []
    },
    {
      "cell_type": "code",
      "source": [
        "k=df.loc[:,\"Calories\"]>350\n",
        "k"
      ],
      "metadata": {
        "id": "n1oogeNQzmZr"
      },
      "execution_count": null,
      "outputs": []
    },
    {
      "cell_type": "code",
      "source": [
        "df.loc[k,:]"
      ],
      "metadata": {
        "id": "LMxA2_MG0E9b"
      },
      "execution_count": null,
      "outputs": []
    },
    {
      "cell_type": "code",
      "source": [
        "df"
      ],
      "metadata": {
        "id": "XzMLUnWK0im0"
      },
      "execution_count": null,
      "outputs": []
    },
    {
      "cell_type": "code",
      "source": [
        "p=df.loc[2]>100\n",
        "p"
      ],
      "metadata": {
        "id": "ZoISjjvI07_a"
      },
      "execution_count": null,
      "outputs": []
    },
    {
      "cell_type": "code",
      "source": [
        "df.loc[:,p]"
      ],
      "metadata": {
        "id": "RbE68SUX1EXz"
      },
      "execution_count": null,
      "outputs": []
    },
    {
      "cell_type": "code",
      "source": [
        "df"
      ],
      "metadata": {
        "id": "LUIua9Nn1JMD"
      },
      "execution_count": null,
      "outputs": []
    },
    {
      "cell_type": "code",
      "source": [
        "df.loc[]"
      ],
      "metadata": {
        "id": "g_Vdz7I6BGw3"
      },
      "execution_count": null,
      "outputs": []
    }
  ]
}